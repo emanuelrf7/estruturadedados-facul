{
 "cells": [
  {
   "cell_type": "markdown",
   "metadata": {},
   "source": [
    "# 1. Função somatório\n",
    "### Recebe um número e faz o somatório do seu primeiro algarismo até chegar no número informado. Ex: Foi informado o número 10. A soma entre 0+1+2+3+4+5+6+7+8+9+10 é igual a 55.\n",
    "---"
   ]
  },
  {
   "cell_type": "markdown",
   "metadata": {},
   "source": [
    "### FUNÇÃO SOMATORIO\n",
    "### resultado timeit com o valor 10 -> 451 ns ± 45.9 ns per loop (mean ± std. dev. of 7 runs, 1,000,000 loops each)\n",
    "---\n",
    "### resultado timeit com o valor 100 -> 2.71 μs ± 148 ns per loop (mean ± std. dev. of 7 runs, 100,000 loops each)\n",
    "---\n",
    "### resultado timeit com o valor 1000 -> 27.9 μs ± 1.96 μs per loop (mean ± std. dev. of 7 runs, 10,000 loops each)\n",
    "### FUNÇÃO SOMATORIO2\n",
    "### resultado timeit com o valor 10 -> 55.9 ns ± 5 ns per loop (mean ± std. dev. of 7 runs, 10,000,000 loops each)\n",
    "---\n",
    "### resultado timeit com o valor 100 -> 56.9 ns ± 3.03 ns per loop (mean ± std. dev. of 7 runs, 10,000,000 loops each)\n",
    "---\n",
    "### resultado timeit com o valor 1000 -> 67.7 ns ± 3.58 ns per loop (mean ± std. dev. of 7 runs, 10,000,000 loops each)\n",
    "---"
   ]
  },
  {
   "cell_type": "code",
   "execution_count": null,
   "metadata": {},
   "outputs": [],
   "source": [
    "def somatorio(num):\n",
    "    total = 0\n",
    "    for i in range(0, num+1):\n",
    "        total += i\n",
    "    \n",
    "    return f\"O resultado do somatório progressivo do número {num} é {total}.\"\n",
    "\n",
    "\n",
    "somatorio(10)\n",
    "%timeit somatorio(1000)\n"
   ]
  },
  {
   "cell_type": "code",
   "execution_count": null,
   "metadata": {},
   "outputs": [],
   "source": [
    "def somatorio2(num):\n",
    "    return (num * (num + 1)) / 2\n",
    "\n",
    "\n",
    "%timeit somatorio2(1000)\n"
   ]
  },
  {
   "cell_type": "markdown",
   "metadata": {},
   "source": [
    "# 2. Função 1000 números\n",
    "### Função que adiciona 1000 números aleatórios em uma lista.\n",
    "---"
   ]
  },
  {
   "cell_type": "code",
   "execution_count": null,
   "metadata": {},
   "outputs": [],
   "source": [
    "from random import randint\n",
    "\n",
    "\n",
    "def mil_numeros():\n",
    "    lista_mil_numeros = []\n",
    "    c = 0\n",
    "    while c < 1000:\n",
    "        num_aleatorio = randint(1, 1000)\n",
    "        lista_mil_numeros.append(num_aleatorio)\n",
    "        c += 1\n",
    "    return lista_mil_numeros\n",
    "        \n",
    "\n",
    "print(mil_numeros())\n",
    "%timeit mil_numeros()\n"
   ]
  },
  {
   "cell_type": "markdown",
   "metadata": {},
   "source": [
    "# 2.1 Função 1000 números parte 2\n",
    "### Mesma função que adiciona 1000 números em uma lista, porém dessa vez sem ser aleatórios, adicionando do 0 até 999.\n",
    "---"
   ]
  },
  {
   "cell_type": "code",
   "execution_count": null,
   "metadata": {},
   "outputs": [],
   "source": [
    "def mil_numeros2():\n",
    "    lista = []\n",
    "    for i in range(0, 1000):\n",
    "        lista.append(i)\n",
    "    return lista\n",
    "\n",
    "\n",
    "print(mil_numeros2())\n",
    "%timeit mil_numeros2()\n"
   ]
  },
  {
   "cell_type": "markdown",
   "metadata": {},
   "source": [
    "# 2.2 Função 1000 números parte 3\n",
    "### Mesma função que adiciona 1000 números em uma lista, porém dessa vez com a resolução que desempenha o melhor tempo entre as 3 funções.\n",
    "---"
   ]
  },
  {
   "cell_type": "code",
   "execution_count": 56,
   "metadata": {},
   "outputs": [
    {
     "name": "stdout",
     "output_type": "stream",
     "text": [
      "58.9 ns ± 1.82 ns per loop (mean ± std. dev. of 7 runs, 10,000,000 loops each)\n"
     ]
    }
   ],
   "source": [
    "def mil_numeros3():\n",
    "    return range(1000)\n",
    "\n",
    "\n",
    "l = mil_numeros3()\n",
    "%timeit mil_numeros3()"
   ]
  }
 ],
 "metadata": {
  "kernelspec": {
   "display_name": "Python 3",
   "language": "python",
   "name": "python3"
  },
  "language_info": {
   "codemirror_mode": {
    "name": "ipython",
    "version": 3
   },
   "file_extension": ".py",
   "mimetype": "text/x-python",
   "name": "python",
   "nbconvert_exporter": "python",
   "pygments_lexer": "ipython3",
   "version": "3.12.2"
  }
 },
 "nbformat": 4,
 "nbformat_minor": 2
}
