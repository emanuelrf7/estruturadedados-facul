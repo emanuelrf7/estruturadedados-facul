{
 "cells": [
  {
   "cell_type": "markdown",
   "metadata": {},
   "source": [
    "# O que são pilhas?\n",
    "\n",
    "Uma **pilha** é uma estrutura de dados linear em que os elementos são organizados de forma que o último elemento inserido seja o primeiro a ser removido. Esse comportamento é conhecido como **LIFO** (Last In, First Out).\n",
    "\n",
    "## Características principais:\n",
    "\n",
    "- **Ordem LIFO:** O último elemento inserido é o primeiro a sair.\n",
    "- **Acesso restrito:** Apenas o elemento no topo da pilha está acessível diretamente.\n",
    "- **Inserção e remoção:** Sempre realizadas no topo da pilha.\n",
    "\n",
    "## Operações básicas:\n",
    "\n",
    "1. **Push (inserir):** Adiciona um elemento no topo da pilha.\n",
    "2. **Pop (remover):** Remove e retorna o elemento no topo da pilha.\n",
    "3. **Top ou Peek (acessar):** Retorna o elemento no topo da pilha sem removê-lo.\n",
    "4. **IsEmpty (verificar se está vazia):** Indica se a pilha não possui elementos.\n",
    "\n",
    "### Exemplo de uso teórico:\n",
    "\n",
    "Pense em uma pilha de pratos:\n",
    "- Ao adicionar um prato (push), ele vai para o topo.\n",
    "- Para pegar um prato (pop), você sempre remove o do topo primeiro.\n",
    "\n",
    "As pilhas são amplamente usadas em programação, como no gerenciamento de chamadas de funções, backtracking e navegação em histórico de navegadores.\n",
    "\n",
    "### Agora, segue uma implementação prática em Python de uma Pilha:"
   ]
  },
  {
   "cell_type": "code",
   "execution_count": 2,
   "metadata": {},
   "outputs": [
    {
     "name": "stdout",
     "output_type": "stream",
     "text": [
      "OUTPUT:\n",
      "Inserindo elementos: 10, 20, 30\n",
      "Elemento no topo da pilha: 30\n",
      "Removendo elemento: 30\n",
      "Elemento no topo após remoção: 20\n",
      "Removendo elemento: 20\n",
      "Removendo elemento: 10\n",
      "Removendo de pilha vazia: Pilha vazia. Não é possível remover.\n"
     ]
    }
   ],
   "source": [
    "class Pilha:\n",
    "    def __init__(self):\n",
    "        \"\"\"Método dander init, que inicializa uma pilha vazia.\"\"\"\n",
    "        self.elementos = []\n",
    "\n",
    "    def push(self, elemento):\n",
    "        \"\"\"Método push, para inserir um elemento no topo da pilha.\"\"\"\n",
    "        self.elementos.append(elemento)  # Adiciona o elemento ao final da lista (topo da pilha).\n",
    "\n",
    "    def pop(self):\n",
    "        \"\"\"Método pop, para remover e retornar o elemento no topo da pilha.\"\"\"\n",
    "        if not self.is_empty():\n",
    "            return self.elementos.pop()  # Remove e retorna o último elemento da lista (topo da pilha).\n",
    "        else:\n",
    "            return \"Pilha vazia. Não é possível remover.\"\n",
    "\n",
    "    def top(self):\n",
    "        \"\"\"Método top, que retorna o elemento no topo da pilha sem removê-lo.\"\"\"\n",
    "        if not self.is_empty():\n",
    "            return self.elementos[-1]  # Retorna o último elemento da lista.\n",
    "        else:\n",
    "            return \"Pilha vazia. Nenhum elemento no topo.\"\n",
    "\n",
    "    def is_empty(self):\n",
    "        \"\"\"Método is_empty, que verifica se a pilha está vazia.\"\"\"\n",
    "        return len(self.elementos) == 0  # Retorna True se a lista não tiver elementos.\n",
    "\n",
    "# Demonstração do funcionamento\n",
    "pilha = Pilha()\n",
    "\n",
    "print(\"OUTPUT:\")\n",
    "\n",
    "# Inserindo elementos na pilha\n",
    "print(\"Inserindo elementos: 10, 20, 30\")\n",
    "pilha.push(10)\n",
    "pilha.push(20)\n",
    "pilha.push(30)\n",
    "\n",
    "# Acessando o elemento no topo\n",
    "print(f\"Elemento no topo da pilha: {pilha.top()}\")  # Deve ser 30\n",
    "\n",
    "# Removendo elementos da pilha\n",
    "print(f\"Removendo elemento: {pilha.pop()}\")  # Remove 30\n",
    "print(f\"Elemento no topo após remoção: {pilha.top()}\")  # Deve ser 20\n",
    "\n",
    "# Continuando com a remoção\n",
    "print(f\"Removendo elemento: {pilha.pop()}\")  # Remove 20\n",
    "print(f\"Removendo elemento: {pilha.pop()}\")  # Remove 10\n",
    "\n",
    "# Tentando remover de uma pilha vazia\n",
    "print(f\"Removendo de pilha vazia: {pilha.pop()}\")  # Mensagem de erro\n"
   ]
  }
 ],
 "metadata": {
  "kernelspec": {
   "display_name": "Python 3",
   "language": "python",
   "name": "python3"
  },
  "language_info": {
   "codemirror_mode": {
    "name": "ipython",
    "version": 3
   },
   "file_extension": ".py",
   "mimetype": "text/x-python",
   "name": "python",
   "nbconvert_exporter": "python",
   "pygments_lexer": "ipython3",
   "version": "3.12.3"
  }
 },
 "nbformat": 4,
 "nbformat_minor": 2
}
