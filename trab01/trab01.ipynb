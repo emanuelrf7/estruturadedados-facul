{
 "cells": [
  {
   "cell_type": "markdown",
   "metadata": {},
   "source": [
    "# *Trabalho 01 da disciplina **Estrutura de Dados***\n",
    "# *Professor: Caio Januzzi*\n",
    "---"
   ]
  },
  {
   "cell_type": "markdown",
   "metadata": {},
   "source": [
    "## 1. Coleta de Dados\n",
    "\n",
    "- Vetor para armazenar um conjunto de dados numéricos simples."
   ]
  },
  {
   "cell_type": "code",
   "execution_count": null,
   "metadata": {},
   "outputs": [],
   "source": [
    "idades = []\n",
    "tot_idades = 0\n",
    "\n",
    "while True:\n",
    "    try:\n",
    "        valor = int(input('Digite um valor numérico inteiro [999 para parar]: '))\n",
    "        if valor == 999:\n",
    "            break\n",
    "    except ValueError:\n",
    "        print('ERRO: Um valor inválido foi enviado. Por favor, envie apenas números inteiros.')\n",
    "    else:\n",
    "        tot_idades += 1\n",
    "        idades.append(valor)\n"
   ]
  },
  {
   "cell_type": "markdown",
   "metadata": {},
   "source": [
    "---\n",
    "## 2. Processamento de Dados\n",
    "\n",
    "- Funções que realizam as operações de média, valor máximo/mínimo e contagem de um intervalo específico do vetor."
   ]
  },
  {
   "cell_type": "code",
   "execution_count": null,
   "metadata": {},
   "outputs": [],
   "source": [
    "def media(valores):\n",
    "    return f'A média dos valores {valores} é: {sum(valores) / len(valores):.1f}'\n",
    "\n",
    "\n",
    "def maxmin(valores):\n",
    "    return f'O valor máximo é {max(valores)} e o valor mínimo é {min(valores)}'\n",
    "\n",
    "\n",
    "def contador_elementos(opc1, opc2, valores):\n",
    "    tot_intervalo = 0\n",
    "    for v in valores:\n",
    "        if v >= opc1 and v <= opc2:\n",
    "            tot_intervalo += 1\n",
    "    \n",
    "    return f'Temos {tot_intervalo} idades no intervalo entre {opc1} e {opc2}.'\n"
   ]
  },
  {
   "cell_type": "markdown",
   "metadata": {},
   "source": [
    "---\n",
    "## 3. Relatório\n",
    "\n",
    "- Um relatório simples dos resultados das operações realizadas pelas funções."
   ]
  },
  {
   "cell_type": "code",
   "execution_count": null,
   "metadata": {},
   "outputs": [],
   "source": [
    "def relatorio(media, maxmin, contador_elementos):\n",
    "    print('-' * 70)\n",
    "    print('RELATÓRIO'.center(70))\n",
    "    print('-' * 70)\n",
    "    print(f'- {media}')\n",
    "    print(f'- {maxmin}')\n",
    "    print(f'- {contador_elementos}')\n",
    "    print('-' * 70)\n",
    "\n",
    "\n",
    "relatorio(media(idades), maxmin(idades), contador_elementos(18, 25, idades))\n"
   ]
  }
 ],
 "metadata": {
  "kernelspec": {
   "display_name": "Python 3",
   "language": "python",
   "name": "python3"
  },
  "language_info": {
   "codemirror_mode": {
    "name": "ipython",
    "version": 3
   },
   "file_extension": ".py",
   "mimetype": "text/x-python",
   "name": "python",
   "nbconvert_exporter": "python",
   "pygments_lexer": "ipython3",
   "version": "3.12.3"
  }
 },
 "nbformat": 4,
 "nbformat_minor": 2
}
